{
 "cells": [
  {
   "cell_type": "code",
   "execution_count": null,
   "metadata": {
    "id": "nam-QkjD11K0"
   },
   "outputs": [],
   "source": []
  },
  {
   "cell_type": "markdown",
   "metadata": {
    "id": "fJyM_LON7FrN"
   },
   "source": [
    "# Project SVM"
   ]
  },
  {
   "cell_type": "code",
   "execution_count": null,
   "metadata": {
    "id": "tJc1yxZp11O0"
   },
   "outputs": [],
   "source": []
  },
  {
   "cell_type": "code",
   "execution_count": null,
   "metadata": {
    "id": "ehKzpo4T11Dl"
   },
   "outputs": [],
   "source": []
  },
  {
   "cell_type": "code",
   "execution_count": 23,
   "metadata": {
    "id": "s3hDJray1vg-"
   },
   "outputs": [],
   "source": [
    "import pandas as pd\n",
    "\n",
    "def load_dataset(filename, class_column, index_col=None):\n",
    "    dataset = pd.read_csv('cardiotrain.csv', index_col=None, delimiter=';')\n",
    "    dataset['class'] = dataset[class_column].astype('category').cat.codes\n",
    "    classes = dataset.pop(class_column).unique()\n",
    "    return dataset, classes\n",
    "\n",
    "def prepare_dataset(dataset_name):\n",
    "    params = {'cardiotrain': {'class_column': 'cardio', 'index_col': None}}\n",
    "    dataset, classes = load_dataset(dataset_name,\n",
    "                                    **params[dataset_name])\n",
    "    y = dataset.pop('class')\n",
    "    X = dataset\n",
    "    return X, y, classes"
   ]
  },
  {
   "cell_type": "code",
   "execution_count": 24,
   "metadata": {
    "id": "F-I8L4dmJRqD"
   },
   "outputs": [],
   "source": [
    "import pandas as pd\n",
    "\n",
    "def load_dataset(filename, class_column, index_col=None):\n",
    "    dataset = pd.read_csv(f'cardiotrain.csv', index_col=None, delimiter=';')\n",
    "    dataset['class'] = dataset[class_column].astype('category').cat.codes\n",
    "    classes = dataset.pop(class_column).unique()\n",
    "    return dataset, classes"
   ]
  },
  {
   "cell_type": "code",
   "execution_count": 25,
   "metadata": {
    "colab": {
     "base_uri": "https://localhost:8080/"
    },
    "id": "b7zW7S-XJl-6",
    "outputId": "bb88c009-a448-457f-c791-4922b3ab934a"
   },
   "outputs": [
    {
     "name": "stdout",
     "output_type": "stream",
     "text": [
      "[0 1]\n"
     ]
    }
   ],
   "source": [
    "card, card_classes = load_dataset('cardiotrain', 'cardio')\n",
    "print(card_classes)\n",
    "\n",
    "y = card.pop('class')\n",
    "X = card"
   ]
  },
  {
   "cell_type": "code",
   "execution_count": 26,
   "metadata": {
    "id": "MM0ToC066qZQ"
   },
   "outputs": [],
   "source": [
    "X, y, classes = prepare_dataset('cardiotrain')"
   ]
  },
  {
   "cell_type": "code",
   "execution_count": 27,
   "metadata": {
    "colab": {
     "base_uri": "https://localhost:8080/",
     "height": 424
    },
    "id": "UiHzxgJWWP_Z",
    "outputId": "75001a2c-640e-47dd-ed72-601a07a2f1e5"
   },
   "outputs": [
    {
     "data": {
      "text/html": [
       "<div>\n",
       "<style scoped>\n",
       "    .dataframe tbody tr th:only-of-type {\n",
       "        vertical-align: middle;\n",
       "    }\n",
       "\n",
       "    .dataframe tbody tr th {\n",
       "        vertical-align: top;\n",
       "    }\n",
       "\n",
       "    .dataframe thead th {\n",
       "        text-align: right;\n",
       "    }\n",
       "</style>\n",
       "<table border=\"1\" class=\"dataframe\">\n",
       "  <thead>\n",
       "    <tr style=\"text-align: right;\">\n",
       "      <th></th>\n",
       "      <th>age</th>\n",
       "      <th>gender</th>\n",
       "      <th>height</th>\n",
       "      <th>weight</th>\n",
       "      <th>ap_hi</th>\n",
       "      <th>ap_lo</th>\n",
       "      <th>cholesterol</th>\n",
       "      <th>gluc</th>\n",
       "      <th>smoke</th>\n",
       "      <th>alco</th>\n",
       "      <th>active</th>\n",
       "    </tr>\n",
       "  </thead>\n",
       "  <tbody>\n",
       "    <tr>\n",
       "      <th>0</th>\n",
       "      <td>18393</td>\n",
       "      <td>2</td>\n",
       "      <td>168</td>\n",
       "      <td>62.0</td>\n",
       "      <td>110</td>\n",
       "      <td>80</td>\n",
       "      <td>1</td>\n",
       "      <td>1</td>\n",
       "      <td>0</td>\n",
       "      <td>0</td>\n",
       "      <td>1</td>\n",
       "    </tr>\n",
       "    <tr>\n",
       "      <th>1</th>\n",
       "      <td>20228</td>\n",
       "      <td>1</td>\n",
       "      <td>156</td>\n",
       "      <td>85.0</td>\n",
       "      <td>140</td>\n",
       "      <td>90</td>\n",
       "      <td>3</td>\n",
       "      <td>1</td>\n",
       "      <td>0</td>\n",
       "      <td>0</td>\n",
       "      <td>1</td>\n",
       "    </tr>\n",
       "    <tr>\n",
       "      <th>2</th>\n",
       "      <td>18857</td>\n",
       "      <td>1</td>\n",
       "      <td>165</td>\n",
       "      <td>64.0</td>\n",
       "      <td>130</td>\n",
       "      <td>70</td>\n",
       "      <td>3</td>\n",
       "      <td>1</td>\n",
       "      <td>0</td>\n",
       "      <td>0</td>\n",
       "      <td>0</td>\n",
       "    </tr>\n",
       "    <tr>\n",
       "      <th>3</th>\n",
       "      <td>17623</td>\n",
       "      <td>2</td>\n",
       "      <td>169</td>\n",
       "      <td>82.0</td>\n",
       "      <td>150</td>\n",
       "      <td>100</td>\n",
       "      <td>1</td>\n",
       "      <td>1</td>\n",
       "      <td>0</td>\n",
       "      <td>0</td>\n",
       "      <td>1</td>\n",
       "    </tr>\n",
       "    <tr>\n",
       "      <th>4</th>\n",
       "      <td>17474</td>\n",
       "      <td>1</td>\n",
       "      <td>156</td>\n",
       "      <td>56.0</td>\n",
       "      <td>100</td>\n",
       "      <td>60</td>\n",
       "      <td>1</td>\n",
       "      <td>1</td>\n",
       "      <td>0</td>\n",
       "      <td>0</td>\n",
       "      <td>0</td>\n",
       "    </tr>\n",
       "    <tr>\n",
       "      <th>...</th>\n",
       "      <td>...</td>\n",
       "      <td>...</td>\n",
       "      <td>...</td>\n",
       "      <td>...</td>\n",
       "      <td>...</td>\n",
       "      <td>...</td>\n",
       "      <td>...</td>\n",
       "      <td>...</td>\n",
       "      <td>...</td>\n",
       "      <td>...</td>\n",
       "      <td>...</td>\n",
       "    </tr>\n",
       "    <tr>\n",
       "      <th>69995</th>\n",
       "      <td>19240</td>\n",
       "      <td>2</td>\n",
       "      <td>168</td>\n",
       "      <td>76.0</td>\n",
       "      <td>120</td>\n",
       "      <td>80</td>\n",
       "      <td>1</td>\n",
       "      <td>1</td>\n",
       "      <td>1</td>\n",
       "      <td>0</td>\n",
       "      <td>1</td>\n",
       "    </tr>\n",
       "    <tr>\n",
       "      <th>69996</th>\n",
       "      <td>22601</td>\n",
       "      <td>1</td>\n",
       "      <td>158</td>\n",
       "      <td>126.0</td>\n",
       "      <td>140</td>\n",
       "      <td>90</td>\n",
       "      <td>2</td>\n",
       "      <td>2</td>\n",
       "      <td>0</td>\n",
       "      <td>0</td>\n",
       "      <td>1</td>\n",
       "    </tr>\n",
       "    <tr>\n",
       "      <th>69997</th>\n",
       "      <td>19066</td>\n",
       "      <td>2</td>\n",
       "      <td>183</td>\n",
       "      <td>105.0</td>\n",
       "      <td>180</td>\n",
       "      <td>90</td>\n",
       "      <td>3</td>\n",
       "      <td>1</td>\n",
       "      <td>0</td>\n",
       "      <td>1</td>\n",
       "      <td>0</td>\n",
       "    </tr>\n",
       "    <tr>\n",
       "      <th>69998</th>\n",
       "      <td>22431</td>\n",
       "      <td>1</td>\n",
       "      <td>163</td>\n",
       "      <td>72.0</td>\n",
       "      <td>135</td>\n",
       "      <td>80</td>\n",
       "      <td>1</td>\n",
       "      <td>2</td>\n",
       "      <td>0</td>\n",
       "      <td>0</td>\n",
       "      <td>0</td>\n",
       "    </tr>\n",
       "    <tr>\n",
       "      <th>69999</th>\n",
       "      <td>20540</td>\n",
       "      <td>1</td>\n",
       "      <td>170</td>\n",
       "      <td>72.0</td>\n",
       "      <td>120</td>\n",
       "      <td>80</td>\n",
       "      <td>2</td>\n",
       "      <td>1</td>\n",
       "      <td>0</td>\n",
       "      <td>0</td>\n",
       "      <td>1</td>\n",
       "    </tr>\n",
       "  </tbody>\n",
       "</table>\n",
       "<p>70000 rows × 11 columns</p>\n",
       "</div>"
      ],
      "text/plain": [
       "         age  gender  height  weight  ap_hi  ap_lo  cholesterol  gluc  smoke  \\\n",
       "0      18393       2     168    62.0    110     80            1     1      0   \n",
       "1      20228       1     156    85.0    140     90            3     1      0   \n",
       "2      18857       1     165    64.0    130     70            3     1      0   \n",
       "3      17623       2     169    82.0    150    100            1     1      0   \n",
       "4      17474       1     156    56.0    100     60            1     1      0   \n",
       "...      ...     ...     ...     ...    ...    ...          ...   ...    ...   \n",
       "69995  19240       2     168    76.0    120     80            1     1      1   \n",
       "69996  22601       1     158   126.0    140     90            2     2      0   \n",
       "69997  19066       2     183   105.0    180     90            3     1      0   \n",
       "69998  22431       1     163    72.0    135     80            1     2      0   \n",
       "69999  20540       1     170    72.0    120     80            2     1      0   \n",
       "\n",
       "       alco  active  \n",
       "0         0       1  \n",
       "1         0       1  \n",
       "2         0       0  \n",
       "3         0       1  \n",
       "4         0       0  \n",
       "...     ...     ...  \n",
       "69995     0       1  \n",
       "69996     0       1  \n",
       "69997     1       0  \n",
       "69998     0       0  \n",
       "69999     0       1  \n",
       "\n",
       "[70000 rows x 11 columns]"
      ]
     },
     "execution_count": 27,
     "metadata": {},
     "output_type": "execute_result"
    }
   ],
   "source": [
    "X"
   ]
  },
  {
   "cell_type": "code",
   "execution_count": 28,
   "metadata": {
    "colab": {
     "base_uri": "https://localhost:8080/",
     "height": 300
    },
    "id": "H7Kp-AqCWvIZ",
    "outputId": "c61013b8-8913-4af1-d6cf-d4871f5a95b9"
   },
   "outputs": [
    {
     "data": {
      "text/html": [
       "<div>\n",
       "<style scoped>\n",
       "    .dataframe tbody tr th:only-of-type {\n",
       "        vertical-align: middle;\n",
       "    }\n",
       "\n",
       "    .dataframe tbody tr th {\n",
       "        vertical-align: top;\n",
       "    }\n",
       "\n",
       "    .dataframe thead th {\n",
       "        text-align: right;\n",
       "    }\n",
       "</style>\n",
       "<table border=\"1\" class=\"dataframe\">\n",
       "  <thead>\n",
       "    <tr style=\"text-align: right;\">\n",
       "      <th></th>\n",
       "      <th>age</th>\n",
       "      <th>gender</th>\n",
       "      <th>height</th>\n",
       "      <th>weight</th>\n",
       "      <th>ap_hi</th>\n",
       "      <th>ap_lo</th>\n",
       "      <th>cholesterol</th>\n",
       "      <th>gluc</th>\n",
       "      <th>smoke</th>\n",
       "      <th>alco</th>\n",
       "      <th>active</th>\n",
       "    </tr>\n",
       "  </thead>\n",
       "  <tbody>\n",
       "    <tr>\n",
       "      <th>count</th>\n",
       "      <td>70000.000000</td>\n",
       "      <td>70000.000000</td>\n",
       "      <td>70000.000000</td>\n",
       "      <td>70000.000000</td>\n",
       "      <td>70000.000000</td>\n",
       "      <td>70000.000000</td>\n",
       "      <td>70000.000000</td>\n",
       "      <td>70000.000000</td>\n",
       "      <td>70000.000000</td>\n",
       "      <td>70000.000000</td>\n",
       "      <td>70000.000000</td>\n",
       "    </tr>\n",
       "    <tr>\n",
       "      <th>mean</th>\n",
       "      <td>19468.865814</td>\n",
       "      <td>1.349571</td>\n",
       "      <td>164.359229</td>\n",
       "      <td>74.205690</td>\n",
       "      <td>128.817286</td>\n",
       "      <td>96.630414</td>\n",
       "      <td>1.366871</td>\n",
       "      <td>1.226457</td>\n",
       "      <td>0.088129</td>\n",
       "      <td>0.053771</td>\n",
       "      <td>0.803729</td>\n",
       "    </tr>\n",
       "    <tr>\n",
       "      <th>std</th>\n",
       "      <td>2467.251667</td>\n",
       "      <td>0.476838</td>\n",
       "      <td>8.210126</td>\n",
       "      <td>14.395757</td>\n",
       "      <td>154.011419</td>\n",
       "      <td>188.472530</td>\n",
       "      <td>0.680250</td>\n",
       "      <td>0.572270</td>\n",
       "      <td>0.283484</td>\n",
       "      <td>0.225568</td>\n",
       "      <td>0.397179</td>\n",
       "    </tr>\n",
       "    <tr>\n",
       "      <th>min</th>\n",
       "      <td>10798.000000</td>\n",
       "      <td>1.000000</td>\n",
       "      <td>55.000000</td>\n",
       "      <td>10.000000</td>\n",
       "      <td>-150.000000</td>\n",
       "      <td>-70.000000</td>\n",
       "      <td>1.000000</td>\n",
       "      <td>1.000000</td>\n",
       "      <td>0.000000</td>\n",
       "      <td>0.000000</td>\n",
       "      <td>0.000000</td>\n",
       "    </tr>\n",
       "    <tr>\n",
       "      <th>25%</th>\n",
       "      <td>17664.000000</td>\n",
       "      <td>1.000000</td>\n",
       "      <td>159.000000</td>\n",
       "      <td>65.000000</td>\n",
       "      <td>120.000000</td>\n",
       "      <td>80.000000</td>\n",
       "      <td>1.000000</td>\n",
       "      <td>1.000000</td>\n",
       "      <td>0.000000</td>\n",
       "      <td>0.000000</td>\n",
       "      <td>1.000000</td>\n",
       "    </tr>\n",
       "    <tr>\n",
       "      <th>50%</th>\n",
       "      <td>19703.000000</td>\n",
       "      <td>1.000000</td>\n",
       "      <td>165.000000</td>\n",
       "      <td>72.000000</td>\n",
       "      <td>120.000000</td>\n",
       "      <td>80.000000</td>\n",
       "      <td>1.000000</td>\n",
       "      <td>1.000000</td>\n",
       "      <td>0.000000</td>\n",
       "      <td>0.000000</td>\n",
       "      <td>1.000000</td>\n",
       "    </tr>\n",
       "    <tr>\n",
       "      <th>75%</th>\n",
       "      <td>21327.000000</td>\n",
       "      <td>2.000000</td>\n",
       "      <td>170.000000</td>\n",
       "      <td>82.000000</td>\n",
       "      <td>140.000000</td>\n",
       "      <td>90.000000</td>\n",
       "      <td>2.000000</td>\n",
       "      <td>1.000000</td>\n",
       "      <td>0.000000</td>\n",
       "      <td>0.000000</td>\n",
       "      <td>1.000000</td>\n",
       "    </tr>\n",
       "    <tr>\n",
       "      <th>max</th>\n",
       "      <td>23713.000000</td>\n",
       "      <td>2.000000</td>\n",
       "      <td>250.000000</td>\n",
       "      <td>200.000000</td>\n",
       "      <td>16020.000000</td>\n",
       "      <td>11000.000000</td>\n",
       "      <td>3.000000</td>\n",
       "      <td>3.000000</td>\n",
       "      <td>1.000000</td>\n",
       "      <td>1.000000</td>\n",
       "      <td>1.000000</td>\n",
       "    </tr>\n",
       "  </tbody>\n",
       "</table>\n",
       "</div>"
      ],
      "text/plain": [
       "                age        gender        height        weight         ap_hi  \\\n",
       "count  70000.000000  70000.000000  70000.000000  70000.000000  70000.000000   \n",
       "mean   19468.865814      1.349571    164.359229     74.205690    128.817286   \n",
       "std     2467.251667      0.476838      8.210126     14.395757    154.011419   \n",
       "min    10798.000000      1.000000     55.000000     10.000000   -150.000000   \n",
       "25%    17664.000000      1.000000    159.000000     65.000000    120.000000   \n",
       "50%    19703.000000      1.000000    165.000000     72.000000    120.000000   \n",
       "75%    21327.000000      2.000000    170.000000     82.000000    140.000000   \n",
       "max    23713.000000      2.000000    250.000000    200.000000  16020.000000   \n",
       "\n",
       "              ap_lo   cholesterol          gluc         smoke          alco  \\\n",
       "count  70000.000000  70000.000000  70000.000000  70000.000000  70000.000000   \n",
       "mean      96.630414      1.366871      1.226457      0.088129      0.053771   \n",
       "std      188.472530      0.680250      0.572270      0.283484      0.225568   \n",
       "min      -70.000000      1.000000      1.000000      0.000000      0.000000   \n",
       "25%       80.000000      1.000000      1.000000      0.000000      0.000000   \n",
       "50%       80.000000      1.000000      1.000000      0.000000      0.000000   \n",
       "75%       90.000000      2.000000      1.000000      0.000000      0.000000   \n",
       "max    11000.000000      3.000000      3.000000      1.000000      1.000000   \n",
       "\n",
       "             active  \n",
       "count  70000.000000  \n",
       "mean       0.803729  \n",
       "std        0.397179  \n",
       "min        0.000000  \n",
       "25%        1.000000  \n",
       "50%        1.000000  \n",
       "75%        1.000000  \n",
       "max        1.000000  "
      ]
     },
     "execution_count": 28,
     "metadata": {},
     "output_type": "execute_result"
    }
   ],
   "source": [
    "X.describe()"
   ]
  },
  {
   "cell_type": "code",
   "execution_count": 29,
   "metadata": {
    "colab": {
     "base_uri": "https://localhost:8080/"
    },
    "id": "__V83_WiWdRk",
    "outputId": "84999796-2916-47f0-ceb9-6c6681a721e0"
   },
   "outputs": [
    {
     "data": {
      "text/plain": [
       "0        0\n",
       "1        1\n",
       "2        1\n",
       "3        1\n",
       "4        0\n",
       "        ..\n",
       "69995    0\n",
       "69996    1\n",
       "69997    1\n",
       "69998    1\n",
       "69999    0\n",
       "Name: class, Length: 70000, dtype: int8"
      ]
     },
     "execution_count": 29,
     "metadata": {},
     "output_type": "execute_result"
    }
   ],
   "source": [
    "y"
   ]
  },
  {
   "cell_type": "code",
   "execution_count": 30,
   "metadata": {
    "colab": {
     "base_uri": "https://localhost:8080/"
    },
    "id": "PFs3lJNbWflj",
    "outputId": "9b7e787c-8a16-4eb0-8937-e43b9cb41fa5"
   },
   "outputs": [
    {
     "data": {
      "text/plain": [
       "array([0, 1], dtype=int64)"
      ]
     },
     "execution_count": 30,
     "metadata": {},
     "output_type": "execute_result"
    }
   ],
   "source": [
    "classes"
   ]
  },
  {
   "cell_type": "code",
   "execution_count": 31,
   "metadata": {
    "id": "zbj-25RFWvEx"
   },
   "outputs": [],
   "source": [
    "from sklearn.preprocessing import Normalizer, StandardScaler\n",
    "normalizer = Normalizer()\n",
    "standarizer = StandardScaler()\n",
    "preprocessor = standarizer\n"
   ]
  },
  {
   "cell_type": "code",
   "execution_count": 32,
   "metadata": {
    "id": "hs-KAf4VWvBB"
   },
   "outputs": [],
   "source": [
    "\n",
    "def preprocess_data(X, preprocessor=None):\n",
    "    if preprocessor is not None:\n",
    "        preprocessor.fit(X)\n",
    "        X_preprocessed = X.copy()\n",
    "        X_preprocessed[:] = preprocessor.transform(X.values)\n",
    "        X = X_preprocessed\n",
    "    return X"
   ]
  },
  {
   "cell_type": "code",
   "execution_count": 33,
   "metadata": {
    "colab": {
     "base_uri": "https://localhost:8080/",
     "height": 241
    },
    "id": "lOyhNdK0WuYy",
    "outputId": "e3e5814a-9152-4df4-98dc-c00cbb87e6e2"
   },
   "outputs": [
    {
     "data": {
      "text/html": [
       "<div>\n",
       "<style scoped>\n",
       "    .dataframe tbody tr th:only-of-type {\n",
       "        vertical-align: middle;\n",
       "    }\n",
       "\n",
       "    .dataframe tbody tr th {\n",
       "        vertical-align: top;\n",
       "    }\n",
       "\n",
       "    .dataframe thead th {\n",
       "        text-align: right;\n",
       "    }\n",
       "</style>\n",
       "<table border=\"1\" class=\"dataframe\">\n",
       "  <thead>\n",
       "    <tr style=\"text-align: right;\">\n",
       "      <th></th>\n",
       "      <th>age</th>\n",
       "      <th>gender</th>\n",
       "      <th>height</th>\n",
       "      <th>weight</th>\n",
       "      <th>ap_hi</th>\n",
       "      <th>ap_lo</th>\n",
       "      <th>cholesterol</th>\n",
       "      <th>gluc</th>\n",
       "      <th>smoke</th>\n",
       "      <th>alco</th>\n",
       "      <th>active</th>\n",
       "    </tr>\n",
       "  </thead>\n",
       "  <tbody>\n",
       "    <tr>\n",
       "      <th>0</th>\n",
       "      <td>-0.436062</td>\n",
       "      <td>1.364055</td>\n",
       "      <td>0.443452</td>\n",
       "      <td>-0.847873</td>\n",
       "      <td>-0.122182</td>\n",
       "      <td>-0.088238</td>\n",
       "      <td>-0.539322</td>\n",
       "      <td>-0.39572</td>\n",
       "      <td>-0.310879</td>\n",
       "      <td>-0.238384</td>\n",
       "      <td>0.494167</td>\n",
       "    </tr>\n",
       "    <tr>\n",
       "      <th>1</th>\n",
       "      <td>0.307686</td>\n",
       "      <td>-0.733108</td>\n",
       "      <td>-1.018168</td>\n",
       "      <td>0.749831</td>\n",
       "      <td>0.072610</td>\n",
       "      <td>-0.035180</td>\n",
       "      <td>2.400793</td>\n",
       "      <td>-0.39572</td>\n",
       "      <td>-0.310879</td>\n",
       "      <td>-0.238384</td>\n",
       "      <td>0.494167</td>\n",
       "    </tr>\n",
       "    <tr>\n",
       "      <th>2</th>\n",
       "      <td>-0.247997</td>\n",
       "      <td>-0.733108</td>\n",
       "      <td>0.078047</td>\n",
       "      <td>-0.708942</td>\n",
       "      <td>0.007679</td>\n",
       "      <td>-0.141297</td>\n",
       "      <td>2.400793</td>\n",
       "      <td>-0.39572</td>\n",
       "      <td>-0.310879</td>\n",
       "      <td>-0.238384</td>\n",
       "      <td>-2.023607</td>\n",
       "    </tr>\n",
       "    <tr>\n",
       "      <th>3</th>\n",
       "      <td>-0.748152</td>\n",
       "      <td>1.364055</td>\n",
       "      <td>0.565254</td>\n",
       "      <td>0.541435</td>\n",
       "      <td>0.137541</td>\n",
       "      <td>0.017879</td>\n",
       "      <td>-0.539322</td>\n",
       "      <td>-0.39572</td>\n",
       "      <td>-0.310879</td>\n",
       "      <td>-0.238384</td>\n",
       "      <td>0.494167</td>\n",
       "    </tr>\n",
       "    <tr>\n",
       "      <th>4</th>\n",
       "      <td>-0.808543</td>\n",
       "      <td>-0.733108</td>\n",
       "      <td>-1.018168</td>\n",
       "      <td>-1.264666</td>\n",
       "      <td>-0.187113</td>\n",
       "      <td>-0.194356</td>\n",
       "      <td>-0.539322</td>\n",
       "      <td>-0.39572</td>\n",
       "      <td>-0.310879</td>\n",
       "      <td>-0.238384</td>\n",
       "      <td>-2.023607</td>\n",
       "    </tr>\n",
       "  </tbody>\n",
       "</table>\n",
       "</div>"
      ],
      "text/plain": [
       "        age    gender    height    weight     ap_hi     ap_lo  cholesterol  \\\n",
       "0 -0.436062  1.364055  0.443452 -0.847873 -0.122182 -0.088238    -0.539322   \n",
       "1  0.307686 -0.733108 -1.018168  0.749831  0.072610 -0.035180     2.400793   \n",
       "2 -0.247997 -0.733108  0.078047 -0.708942  0.007679 -0.141297     2.400793   \n",
       "3 -0.748152  1.364055  0.565254  0.541435  0.137541  0.017879    -0.539322   \n",
       "4 -0.808543 -0.733108 -1.018168 -1.264666 -0.187113 -0.194356    -0.539322   \n",
       "\n",
       "      gluc     smoke      alco    active  \n",
       "0 -0.39572 -0.310879 -0.238384  0.494167  \n",
       "1 -0.39572 -0.310879 -0.238384  0.494167  \n",
       "2 -0.39572 -0.310879 -0.238384 -2.023607  \n",
       "3 -0.39572 -0.310879 -0.238384  0.494167  \n",
       "4 -0.39572 -0.310879 -0.238384 -2.023607  "
      ]
     },
     "execution_count": 33,
     "metadata": {},
     "output_type": "execute_result"
    }
   ],
   "source": [
    "X = preprocess_data(X, standarizer)\n",
    "X.head()"
   ]
  },
  {
   "cell_type": "code",
   "execution_count": 34,
   "metadata": {
    "colab": {
     "base_uri": "https://localhost:8080/"
    },
    "id": "gd6N1QoeWuyS",
    "outputId": "e7a59593-c511-4ef3-8565-2113cbebc3a1"
   },
   "outputs": [
    {
     "data": {
      "text/plain": [
       "0    35021\n",
       "1    34979\n",
       "Name: class, dtype: int64"
      ]
     },
     "execution_count": 34,
     "metadata": {},
     "output_type": "execute_result"
    }
   ],
   "source": [
    "y.value_counts()"
   ]
  },
  {
   "cell_type": "code",
   "execution_count": 35,
   "metadata": {
    "colab": {
     "base_uri": "https://localhost:8080/",
     "height": 300
    },
    "id": "pedMCGUwWuvS",
    "outputId": "551dd99e-69d4-486f-ed0f-c4ec13738d14"
   },
   "outputs": [
    {
     "data": {
      "text/html": [
       "<div>\n",
       "<style scoped>\n",
       "    .dataframe tbody tr th:only-of-type {\n",
       "        vertical-align: middle;\n",
       "    }\n",
       "\n",
       "    .dataframe tbody tr th {\n",
       "        vertical-align: top;\n",
       "    }\n",
       "\n",
       "    .dataframe thead th {\n",
       "        text-align: right;\n",
       "    }\n",
       "</style>\n",
       "<table border=\"1\" class=\"dataframe\">\n",
       "  <thead>\n",
       "    <tr style=\"text-align: right;\">\n",
       "      <th></th>\n",
       "      <th>age</th>\n",
       "      <th>gender</th>\n",
       "      <th>height</th>\n",
       "      <th>weight</th>\n",
       "      <th>ap_hi</th>\n",
       "      <th>ap_lo</th>\n",
       "      <th>cholesterol</th>\n",
       "      <th>gluc</th>\n",
       "      <th>smoke</th>\n",
       "      <th>alco</th>\n",
       "      <th>active</th>\n",
       "    </tr>\n",
       "  </thead>\n",
       "  <tbody>\n",
       "    <tr>\n",
       "      <th>count</th>\n",
       "      <td>7.000000e+04</td>\n",
       "      <td>7.000000e+04</td>\n",
       "      <td>7.000000e+04</td>\n",
       "      <td>7.000000e+04</td>\n",
       "      <td>7.000000e+04</td>\n",
       "      <td>7.000000e+04</td>\n",
       "      <td>7.000000e+04</td>\n",
       "      <td>7.000000e+04</td>\n",
       "      <td>7.000000e+04</td>\n",
       "      <td>7.000000e+04</td>\n",
       "      <td>7.000000e+04</td>\n",
       "    </tr>\n",
       "    <tr>\n",
       "      <th>mean</th>\n",
       "      <td>5.202481e-16</td>\n",
       "      <td>7.061177e-16</td>\n",
       "      <td>1.768550e-15</td>\n",
       "      <td>-3.450534e-16</td>\n",
       "      <td>-1.518658e-15</td>\n",
       "      <td>-7.473280e-16</td>\n",
       "      <td>-7.881616e-16</td>\n",
       "      <td>1.843571e-15</td>\n",
       "      <td>1.804363e-15</td>\n",
       "      <td>-1.047438e-15</td>\n",
       "      <td>4.778670e-16</td>\n",
       "    </tr>\n",
       "    <tr>\n",
       "      <th>std</th>\n",
       "      <td>1.000007e+00</td>\n",
       "      <td>1.000007e+00</td>\n",
       "      <td>1.000007e+00</td>\n",
       "      <td>1.000007e+00</td>\n",
       "      <td>1.000007e+00</td>\n",
       "      <td>1.000007e+00</td>\n",
       "      <td>1.000007e+00</td>\n",
       "      <td>1.000007e+00</td>\n",
       "      <td>1.000007e+00</td>\n",
       "      <td>1.000007e+00</td>\n",
       "      <td>1.000007e+00</td>\n",
       "    </tr>\n",
       "    <tr>\n",
       "      <th>min</th>\n",
       "      <td>-3.514407e+00</td>\n",
       "      <td>-7.331083e-01</td>\n",
       "      <td>-1.332014e+01</td>\n",
       "      <td>-4.460075e+00</td>\n",
       "      <td>-1.810381e+00</td>\n",
       "      <td>-8.841161e-01</td>\n",
       "      <td>-5.393221e-01</td>\n",
       "      <td>-3.957199e-01</td>\n",
       "      <td>-3.108791e-01</td>\n",
       "      <td>-2.383844e-01</td>\n",
       "      <td>-2.023607e+00</td>\n",
       "    </tr>\n",
       "    <tr>\n",
       "      <th>25%</th>\n",
       "      <td>-7.315341e-01</td>\n",
       "      <td>-7.331083e-01</td>\n",
       "      <td>-6.527630e-01</td>\n",
       "      <td>-6.394770e-01</td>\n",
       "      <td>-5.725127e-02</td>\n",
       "      <td>-8.823850e-02</td>\n",
       "      <td>-5.393221e-01</td>\n",
       "      <td>-3.957199e-01</td>\n",
       "      <td>-3.108791e-01</td>\n",
       "      <td>-2.383844e-01</td>\n",
       "      <td>4.941671e-01</td>\n",
       "    </tr>\n",
       "    <tr>\n",
       "      <th>50%</th>\n",
       "      <td>9.489744e-02</td>\n",
       "      <td>-7.331083e-01</td>\n",
       "      <td>7.804703e-02</td>\n",
       "      <td>-1.532192e-01</td>\n",
       "      <td>-5.725127e-02</td>\n",
       "      <td>-8.823850e-02</td>\n",
       "      <td>-5.393221e-01</td>\n",
       "      <td>-3.957199e-01</td>\n",
       "      <td>-3.108791e-01</td>\n",
       "      <td>-2.383844e-01</td>\n",
       "      <td>4.941671e-01</td>\n",
       "    </tr>\n",
       "    <tr>\n",
       "      <th>75%</th>\n",
       "      <td>7.531244e-01</td>\n",
       "      <td>1.364055e+00</td>\n",
       "      <td>6.870554e-01</td>\n",
       "      <td>5.414349e-01</td>\n",
       "      <td>7.261016e-02</td>\n",
       "      <td>-3.517999e-02</td>\n",
       "      <td>9.307354e-01</td>\n",
       "      <td>-3.957199e-01</td>\n",
       "      <td>-3.108791e-01</td>\n",
       "      <td>-2.383844e-01</td>\n",
       "      <td>4.941671e-01</td>\n",
       "    </tr>\n",
       "    <tr>\n",
       "      <th>max</th>\n",
       "      <td>1.720199e+00</td>\n",
       "      <td>1.364055e+00</td>\n",
       "      <td>1.043119e+01</td>\n",
       "      <td>8.738353e+00</td>\n",
       "      <td>1.031826e+02</td>\n",
       "      <td>5.785165e+01</td>\n",
       "      <td>2.400793e+00</td>\n",
       "      <td>3.099157e+00</td>\n",
       "      <td>3.216684e+00</td>\n",
       "      <td>4.194906e+00</td>\n",
       "      <td>4.941671e-01</td>\n",
       "    </tr>\n",
       "  </tbody>\n",
       "</table>\n",
       "</div>"
      ],
      "text/plain": [
       "                age        gender        height        weight         ap_hi  \\\n",
       "count  7.000000e+04  7.000000e+04  7.000000e+04  7.000000e+04  7.000000e+04   \n",
       "mean   5.202481e-16  7.061177e-16  1.768550e-15 -3.450534e-16 -1.518658e-15   \n",
       "std    1.000007e+00  1.000007e+00  1.000007e+00  1.000007e+00  1.000007e+00   \n",
       "min   -3.514407e+00 -7.331083e-01 -1.332014e+01 -4.460075e+00 -1.810381e+00   \n",
       "25%   -7.315341e-01 -7.331083e-01 -6.527630e-01 -6.394770e-01 -5.725127e-02   \n",
       "50%    9.489744e-02 -7.331083e-01  7.804703e-02 -1.532192e-01 -5.725127e-02   \n",
       "75%    7.531244e-01  1.364055e+00  6.870554e-01  5.414349e-01  7.261016e-02   \n",
       "max    1.720199e+00  1.364055e+00  1.043119e+01  8.738353e+00  1.031826e+02   \n",
       "\n",
       "              ap_lo   cholesterol          gluc         smoke          alco  \\\n",
       "count  7.000000e+04  7.000000e+04  7.000000e+04  7.000000e+04  7.000000e+04   \n",
       "mean  -7.473280e-16 -7.881616e-16  1.843571e-15  1.804363e-15 -1.047438e-15   \n",
       "std    1.000007e+00  1.000007e+00  1.000007e+00  1.000007e+00  1.000007e+00   \n",
       "min   -8.841161e-01 -5.393221e-01 -3.957199e-01 -3.108791e-01 -2.383844e-01   \n",
       "25%   -8.823850e-02 -5.393221e-01 -3.957199e-01 -3.108791e-01 -2.383844e-01   \n",
       "50%   -8.823850e-02 -5.393221e-01 -3.957199e-01 -3.108791e-01 -2.383844e-01   \n",
       "75%   -3.517999e-02  9.307354e-01 -3.957199e-01 -3.108791e-01 -2.383844e-01   \n",
       "max    5.785165e+01  2.400793e+00  3.099157e+00  3.216684e+00  4.194906e+00   \n",
       "\n",
       "             active  \n",
       "count  7.000000e+04  \n",
       "mean   4.778670e-16  \n",
       "std    1.000007e+00  \n",
       "min   -2.023607e+00  \n",
       "25%    4.941671e-01  \n",
       "50%    4.941671e-01  \n",
       "75%    4.941671e-01  \n",
       "max    4.941671e-01  "
      ]
     },
     "execution_count": 35,
     "metadata": {},
     "output_type": "execute_result"
    }
   ],
   "source": [
    "X.describe()"
   ]
  },
  {
   "cell_type": "code",
   "execution_count": 36,
   "metadata": {
    "id": "3IBfZT89WupB"
   },
   "outputs": [],
   "source": [
    "from sklearn.svm import SVC\n",
    "from sklearn.model_selection import train_test_split\n",
    "X_train, X_test, y_train, y_test = train_test_split(X,y, test_size = 0.2, random_state=42, stratify=y)\n",
    "# Train a linear SVM\n",
    "svm1 = SVC(kernel = 'linear')\n",
    "svm1.fit(X_train, y_train)\n",
    "pred = svm1.predict(X_test)\n",
    "pred_train = svm1.predict(X_train)"
   ]
  },
  {
   "cell_type": "code",
   "execution_count": 37,
   "metadata": {
    "colab": {
     "base_uri": "https://localhost:8080/"
    },
    "id": "xAp5dyoaWuko",
    "outputId": "121bfad3-d46a-4e42-c82b-191bd0482c8e"
   },
   "outputs": [
    {
     "name": "stdout",
     "output_type": "stream",
     "text": [
      "0.7233392857142857\n",
      "0.7191428571428572\n"
     ]
    }
   ],
   "source": [
    "from sklearn.metrics import accuracy_score \n",
    "print(accuracy_score(y_train, pred_train))\n",
    "print(accuracy_score(y_test, pred))"
   ]
  },
  {
   "cell_type": "code",
   "execution_count": 38,
   "metadata": {
    "id": "i_nlONQtWuOZ"
   },
   "outputs": [],
   "source": [
    "from sklearn.model_selection import KFold, StratifiedKFold\n",
    "from sklearn.metrics import confusion_matrix"
   ]
  },
  {
   "cell_type": "code",
   "execution_count": 39,
   "metadata": {
    "id": "kUGvjleiig7M"
   },
   "outputs": [],
   "source": [
    "import matplotlib.pyplot as plt\n",
    "import numpy as np\n",
    "\n",
    "def plot_confusion_matrix(confusion_matrix, classes, title=None,\n",
    "                          title_appendix='',\n",
    "                          cmap=plt.cm.Blues):\n",
    "    # tytuł wykresu\n",
    "    if title_appendix:\n",
    "        title_appendix = f'({title_appendix})'\n",
    "    if title is None:\n",
    "        title = f'Confusion matrix {title_appendix}'\n",
    "    \n",
    "    fig, ax = plt.subplots(figsize=(10,5))\n",
    "    # rysuje CM\n",
    "    img = ax.imshow(confusion_matrix, cmap=cmap)\n",
    "    # dodaje pasek z boku\n",
    "    ax.figure.colorbar(img, ax=ax)\n",
    "    # dodatki do wykresu\n",
    "    ax.set_xticks(np.arange(confusion_matrix.shape[1]))\n",
    "    ax.set_xticklabels(classes, rotation=45, ha='right', rotation_mode='anchor')\n",
    "    ax.set_yticks(np.arange(confusion_matrix.shape[0]))\n",
    "    ax.set_yticklabels(classes, rotation=45, ha='right', rotation_mode='anchor')\n",
    "    ax.set_title(title)\n",
    "    ax.set_ylabel('True label')\n",
    "    ax.set_xlabel('Predicted label')\n",
    "    \n",
    "    # etykiety\n",
    "    fmt = '.2f' if confusion_matrix.dtype == 'float' else 'd'\n",
    "    thresh = confusion_matrix.max() / 2\n",
    "    for y, row in enumerate(confusion_matrix):\n",
    "        for x, cell in enumerate(row):\n",
    "            ax.text(x, y, format(cell, fmt),\n",
    "                    ha='center', va='center',\n",
    "                    color='white' if cell > thresh else 'black')\n",
    "    fig.tight_layout()\n",
    "    \n",
    "    return ax"
   ]
  },
  {
   "cell_type": "code",
   "execution_count": 40,
   "metadata": {
    "id": "KTteQbEYig3b"
   },
   "outputs": [],
   "source": [
    "def normalize_confusion_matrix(confusion_matrix):\n",
    "    return confusion_matrix.astype(\n",
    "        'float') / confusion_matrix.sum(\n",
    "        axis=1)[np.newaxis].T"
   ]
  },
  {
   "cell_type": "code",
   "execution_count": 41,
   "metadata": {
    "colab": {
     "base_uri": "https://localhost:8080/",
     "height": 386
    },
    "id": "zpepEUhAigrL",
    "outputId": "53c21c19-3216-469f-fd05-b20085fd66fe"
   },
   "outputs": [
    {
     "name": "stdout",
     "output_type": "stream",
     "text": [
      "0.7229857142857142 SVM + CV\n"
     ]
    },
    {
     "data": {
      "image/png": "[encoded data removed]",
      "text/plain": [
       "<Figure size 720x360 with 2 Axes>"
      ]
     },
     "metadata": {
      "needs_background": "light"
     },
     "output_type": "display_data"
    }
   ],
   "source": [
    "cross_val = KFold(n_splits=9)#, shuffle=True)\n",
    "\n",
    "predicted = []\n",
    "target = []\n",
    "\n",
    "for train_index, test_index in cross_val.split(X, y):\n",
    "    svm = SVC( kernel=\"linear\")\n",
    "    X_train_cv, X_test_cv = X.iloc[train_index], X.iloc[test_index]\n",
    "    y_train_cv, y_test_cv = y.iloc[train_index], y.iloc[test_index]\n",
    "    svm.fit(X_train_cv, y_train_cv)\n",
    "    predicted = np.concatenate((predicted, svm.predict(X_test_cv)))\n",
    "    target = np.concatenate((target, y_test_cv))\n",
    "\n",
    "print(accuracy_score(target, predicted), 'SVM + CV')\n",
    "cm_svm = confusion_matrix(target, predicted)\n",
    "\n",
    "plot_confusion_matrix(normalize_confusion_matrix(cm_svm),\n",
    "                      card_classes, title_appendix='SVM + CV')\n",
    "plt.show()"
   ]
  },
  {
   "cell_type": "code",
   "execution_count": 42,
   "metadata": {
    "colab": {
     "base_uri": "https://localhost:8080/"
    },
    "id": "ArnQeBxKigZB",
    "outputId": "34b81fa4-55a5-4a67-b15b-876fb3ef4f9d"
   },
   "outputs": [
    {
     "data": {
      "text/plain": [
       "array([0.720108  , 0.71393674, 0.73360761, 0.72756493, 0.72255078,\n",
       "       0.72255078, 0.73090769, 0.7144143 , 0.72238652])"
      ]
     },
     "execution_count": 42,
     "metadata": {},
     "output_type": "execute_result"
    }
   ],
   "source": [
    "from sklearn.model_selection import cross_validate\n",
    "cv_results = cross_validate(svm1, X, y, cv=9)\n",
    "cv_results['test_score']"
   ]
  },
  {
   "cell_type": "code",
   "execution_count": 43,
   "metadata": {
    "colab": {
     "base_uri": "https://localhost:8080/"
    },
    "id": "5PmsbqA2rHAQ",
    "outputId": "8d9705b0-0faa-4267-af86-d538fca17edc"
   },
   "outputs": [
    {
     "data": {
      "text/plain": [
       "0    35021\n",
       "1    34979\n",
       "Name: class, dtype: int64"
      ]
     },
     "execution_count": 43,
     "metadata": {},
     "output_type": "execute_result"
    }
   ],
   "source": [
    "y.value_counts()"
   ]
  },
  {
   "cell_type": "code",
   "execution_count": 44,
   "metadata": {
    "id": "uBqEpsl8V1jB"
   },
   "outputs": [
    {
     "name": "stdout",
     "output_type": "stream",
     "text": [
      "0.7191428571428572\n",
      "0.7235\n"
     ]
    }
   ],
   "source": [
    "from sklearn.model_selection import GridSearchCV\n",
    "parameters = {'C':[ 0.01, 1.0, 10]}\n",
    "searcher = GridSearchCV(svm1, parameters)\n",
    "searcher.fit(X_train, y_train)\n",
    "pred = searcher.predict(X_test)\n",
    "pred_train = searcher.predict(X_train)\n",
    "print(accuracy_score(y_test, pred))\n",
    "print(accuracy_score(y_train, pred_train))"
   ]
  },
  {
   "cell_type": "code",
   "execution_count": 45,
   "metadata": {
    "id": "w-y8LG3HV1Wu"
   },
   "outputs": [
    {
     "name": "stdout",
     "output_type": "stream",
     "text": [
      "Best CV params {'C': 10}\n"
     ]
    }
   ],
   "source": [
    "print(\"Best CV params\", searcher.best_params_)"
   ]
  },
  {
   "cell_type": "code",
   "execution_count": 47,
   "metadata": {
    "id": "NC_gUhP0V1Ew"
   },
   "outputs": [
    {
     "name": "stdout",
     "output_type": "stream",
     "text": [
      "0.7296428571428571\n",
      "0.7367678571428572\n",
      "Best CV params {'C': 200, 'gamma': 0.01, 'kernel': 'rbf'}\n"
     ]
    }
   ],
   "source": [
    "# Instantiate an RBF SVM\n",
    "svm = SVC(kernel='rbf')\n",
    "\n",
    "# Instantiate the GridSearchCV object and run the search\n",
    "parameters = {'gamma':[ 0.0001, 0.001, 0.01, 0.1],\n",
    "              'C' : [ 0.1, 1, 10, 100, 200],\n",
    "              'kernel': ['linear', 'poly', 'sigmoid', \n",
    "                         'rbf']}\n",
    "searcher = GridSearchCV(svm, parameters)\n",
    "searcher.fit(X_train, y_train)\n",
    "pred = searcher.predict(X_test)\n",
    "pred_train = searcher.predict(X_train)\n",
    "print(accuracy_score(y_test, pred))\n",
    "print(accuracy_score(y_train, pred_train))\n",
    "# Report the best parameters\n",
    "print(\"Best CV params\", searcher.best_params_)"
   ]
  },
  {
   "cell_type": "code",
   "execution_count": 49,
   "metadata": {},
   "outputs": [
    {
     "name": "stdout",
     "output_type": "stream",
     "text": [
      "Best CV accuracy 0.7333571428571429\n"
     ]
    }
   ],
   "source": [
    "print(\"Best CV accuracy\", searcher.best_score_)"
   ]
  },
  {
   "cell_type": "code",
   "execution_count": 50,
   "metadata": {},
   "outputs": [
    {
     "name": "stdout",
     "output_type": "stream",
     "text": [
      "Best CV params {'C': 200, 'gamma': 0.01, 'kernel': 'rbf'}\n"
     ]
    }
   ],
   "source": [
    "print(\"Best CV params\", searcher.best_params_)"
   ]
  },
  {
   "cell_type": "code",
   "execution_count": 51,
   "metadata": {},
   "outputs": [
    {
     "name": "stdout",
     "output_type": "stream",
     "text": [
      "Test accuracy of best grid search hypers: 0.7296428571428571\n"
     ]
    }
   ],
   "source": [
    "print(\"Test accuracy of best grid search hypers:\", searcher.score(X_test, y_test))"
   ]
  },
  {
   "cell_type": "code",
   "execution_count": 52,
   "metadata": {},
   "outputs": [
    {
     "data": {
      "text/plain": [
       "SVC(C=200, gamma=0.01)"
      ]
     },
     "execution_count": 52,
     "metadata": {},
     "output_type": "execute_result"
    }
   ],
   "source": [
    "svm2 = SVC(C=200, gamma=0.01, kernel='rbf')\n",
    "svm2.fit(X_train, y_train)"
   ]
  },
  {
   "cell_type": "code",
   "execution_count": 53,
   "metadata": {},
   "outputs": [
    {
     "data": {
      "text/plain": [
       "array([0.72975058, 0.72627925, 0.74299306, 0.73592183, 0.73232193,\n",
       "       0.73116482, 0.74106454, 0.72637264, 0.73138742])"
      ]
     },
     "execution_count": 53,
     "metadata": {},
     "output_type": "execute_result"
    }
   ],
   "source": [
    "from sklearn.model_selection import cross_validate\n",
    "\n",
    "cv_results = cross_validate(svm2, X, y, cv=9)\n",
    "cv_results['test_score']"
   ]
  },
  {
   "cell_type": "code",
   "execution_count": 54,
   "metadata": {},
   "outputs": [
    {
     "data": {
      "text/plain": [
       "0    35021\n",
       "1    34979\n",
       "Name: class, dtype: int64"
      ]
     },
     "execution_count": 54,
     "metadata": {},
     "output_type": "execute_result"
    }
   ],
   "source": [
    "y.value_counts()"
   ]
  },
  {
   "cell_type": "code",
   "execution_count": null,
   "metadata": {},
   "outputs": [],
   "source": []
  },
  {
   "cell_type": "code",
   "execution_count": null,
   "metadata": {},
   "outputs": [],
   "source": []
  },
  {
   "cell_type": "code",
   "execution_count": 55,
   "metadata": {},
   "outputs": [],
   "source": [
    "from sklearn.ensemble import BaggingClassifier\n",
    "from sklearn.svm import SVC\n",
    "from sklearn.tree import DecisionTreeClassifier"
   ]
  },
  {
   "cell_type": "code",
   "execution_count": 56,
   "metadata": {},
   "outputs": [],
   "source": [
    "from sklearn.metrics import accuracy_score, precision_score, recall_score, f1_score, confusion_matrix\n",
    "import matplotlib.pyplot as plt\n",
    "import numpy as np\n",
    "\n",
    "# average:\n",
    "#   None - wyniki dla każdej klasy osobno\n",
    "#   'binary' - dla wybranej w `pos_label` etykiety\n",
    "#   'micro' - dla całkowitej liczby TP, FN, FP\n",
    "#   'macro' - nieważona średnia dla każdej klasy\n",
    "#   'weighted' - ważona średnia dla każdej klasy\n",
    "\n",
    "def calculate_metrics(target, prediction, average='macro'):\n",
    "    accuracy = accuracy_score(target, prediction)\n",
    "    precision = precision_score(target, prediction, average=average)\n",
    "    recall = recall_score(target, prediction, average=average)\n",
    "    f1 = f1_score(target, prediction, average=average)\n",
    "    mislabeled = (target != prediction).sum()\n",
    "    total = len(target)\n",
    "    return accuracy, precision, recall, f1, mislabeled, total\n",
    "\n",
    "def print_results(metrics, classifier_id='classifier'):\n",
    "    print(f'Results for {classifier_id}')\n",
    "    print('----')\n",
    "    print(f'  Accuracy:  {metrics[0]}')\n",
    "    print(f'  Precision: {metrics[1]}')\n",
    "    print(f'  Recall:    {metrics[2]}')\n",
    "    print(f'  F1 score:  {metrics[3]}')\n",
    "    print(f'  Mislabeled {metrics[4]} out of {metrics[5]}')\n",
    "    print('\\n')\n",
    "    \n",
    "def plot_confusion_matrix(confusion_matrix, classes, title=None,\n",
    "                          title_appendix='',\n",
    "                          cmap=plt.cm.Blues):\n",
    "    # tytuł wykresu\n",
    "    if title_appendix:\n",
    "        title_appendix = f'({title_appendix})'\n",
    "    if title is None:\n",
    "        title = f'Confusion matrix {title_appendix}'\n",
    "    \n",
    "    fig, ax = plt.subplots()\n",
    "    # rysuje CM\n",
    "    img = ax.imshow(confusion_matrix, cmap=cmap)\n",
    "    # dodaje pasek z boku\n",
    "    ax.figure.colorbar(img, ax=ax)\n",
    "    # dodatki do wykresu\n",
    "    ax.set_xticks(np.arange(confusion_matrix.shape[1]))\n",
    "    ax.set_xticklabels(classes, rotation=45, ha='right', rotation_mode='anchor')\n",
    "    ax.set_yticks(np.arange(confusion_matrix.shape[0]))\n",
    "    ax.set_yticklabels(classes, rotation=45, ha='right', rotation_mode='anchor')\n",
    "    ax.set_title(title)\n",
    "    ax.set_ylabel('True label')\n",
    "    ax.set_xlabel('Predicted label')\n",
    "    \n",
    "    # etykiety\n",
    "    fmt = '.2f' if confusion_matrix.dtype == 'float' else 'd'\n",
    "    thresh = confusion_matrix.max() / 2\n",
    "    for y, row in enumerate(confusion_matrix):\n",
    "        for x, cell in enumerate(row):\n",
    "            ax.text(x, y, format(cell, fmt),\n",
    "                    ha='center', va='center',\n",
    "                    color='white' if cell > thresh else 'black')\n",
    "    fig.tight_layout()\n",
    "    \n",
    "    return ax\n",
    "\n",
    "def normalize_confusion_matrix(confusion_matrix):\n",
    "    return confusion_matrix.astype(\n",
    "        'float') / confusion_matrix.sum(\n",
    "        axis=1)[np.newaxis].T"
   ]
  },
  {
   "cell_type": "code",
   "execution_count": 57,
   "metadata": {},
   "outputs": [],
   "source": [
    "svm = SVC(C=200, gamma = 0.01)\n",
    "svm.fit(X_train, y_train)\n",
    "y_tree = svm.predict(X_test)"
   ]
  },
  {
   "cell_type": "code",
   "execution_count": 58,
   "metadata": {},
   "outputs": [
    {
     "name": "stdout",
     "output_type": "stream",
     "text": [
      "Results for SVM\n",
      "----\n",
      "  Accuracy:  0.7296428571428571\n",
      "  Precision: 0.7310312783215369\n",
      "  Recall:    0.7296206055904019\n",
      "  F1 score:  0.7292234283779541\n",
      "  Mislabeled 3785 out of 14000\n",
      "\n",
      "\n"
     ]
    },
    {
     "data": {
      "text/plain": [
       "<AxesSubplot:title={'center':'Confusion matrix '}, xlabel='Predicted label', ylabel='True label'>"
      ]
     },
     "execution_count": 58,
     "metadata": {},
     "output_type": "execute_result"
    },
    {
     "data": {
      "image/png": "[encoded data removed]",
      "text/plain": [
       "<Figure size 432x288 with 2 Axes>"
      ]
     },
     "metadata": {
      "needs_background": "light"
     },
     "output_type": "display_data"
    }
   ],
   "source": [
    "print_results(calculate_metrics(y_test.values, y_tree), 'SVM')\n",
    "cm = confusion_matrix(y_test, y_tree)\n",
    "plot_confusion_matrix(cm, classes)"
   ]
  },
  {
   "cell_type": "code",
   "execution_count": 59,
   "metadata": {},
   "outputs": [],
   "source": [
    "bclf = BaggingClassifier(base_estimator = SVC(C=200, gamma = 0.01 ), n_estimators = 250)\n",
    "bclf.fit(X_train, y_train)\n",
    "y_b = bclf.predict(X_test)"
   ]
  },
  {
   "cell_type": "code",
   "execution_count": 60,
   "metadata": {},
   "outputs": [
    {
     "name": "stdout",
     "output_type": "stream",
     "text": [
      "Results for Bagging Ensemble\n",
      "----\n",
      "  Accuracy:  0.7301428571428571\n",
      "  Precision: 0.7315498742235227\n",
      "  Recall:    0.7301204833046476\n",
      "  F1 score:  0.7297196256562649\n",
      "  Mislabeled 3778 out of 14000\n",
      "\n",
      "\n"
     ]
    },
    {
     "data": {
      "text/plain": [
       "<AxesSubplot:title={'center':'Confusion matrix '}, xlabel='Predicted label', ylabel='True label'>"
      ]
     },
     "execution_count": 60,
     "metadata": {},
     "output_type": "execute_result"
    },
    {
     "data": {
      "image/png": "[encoded data removed]",
      "text/plain": [
       "<Figure size 432x288 with 2 Axes>"
      ]
     },
     "metadata": {
      "needs_background": "light"
     },
     "output_type": "display_data"
    }
   ],
   "source": [
    "print_results(calculate_metrics(y_test.values, y_b), 'Bagging Ensemble')\n",
    "cm = confusion_matrix(y_test, y_b)\n",
    "plot_confusion_matrix(cm, classes)"
   ]
  },
  {
   "cell_type": "code",
   "execution_count": 61,
   "metadata": {},
   "outputs": [
    {
     "name": "stdout",
     "output_type": "stream",
     "text": [
      "[SVC(C=200, gamma=0.01, random_state=1387022508), SVC(C=200, gamma=0.01, random_state=1677845494), SVC(C=200, gamma=0.01, random_state=1328516451), SVC(C=200, gamma=0.01, random_state=1062726317), SVC(C=200, gamma=0.01, random_state=1382283917), SVC(C=200, gamma=0.01, random_state=1857844825), SVC(C=200, gamma=0.01, random_state=1712913962), SVC(C=200, gamma=0.01, random_state=285613109), SVC(C=200, gamma=0.01, random_state=688238079), SVC(C=200, gamma=0.01, random_state=669830317), SVC(C=200, gamma=0.01, random_state=1380143556), SVC(C=200, gamma=0.01, random_state=210977207), SVC(C=200, gamma=0.01, random_state=471632626), SVC(C=200, gamma=0.01, random_state=207313107), SVC(C=200, gamma=0.01, random_state=1689464036), SVC(C=200, gamma=0.01, random_state=492947506), SVC(C=200, gamma=0.01, random_state=881555368), SVC(C=200, gamma=0.01, random_state=1051146866), SVC(C=200, gamma=0.01, random_state=1277104490), SVC(C=200, gamma=0.01, random_state=1730646390), SVC(C=200, gamma=0.01, random_state=780280944), SVC(C=200, gamma=0.01, random_state=1538877652), SVC(C=200, gamma=0.01, random_state=1161392487), SVC(C=200, gamma=0.01, random_state=200874631), SVC(C=200, gamma=0.01, random_state=943851622), SVC(C=200, gamma=0.01, random_state=456453573), SVC(C=200, gamma=0.01, random_state=780505060), SVC(C=200, gamma=0.01, random_state=1130247381), SVC(C=200, gamma=0.01, random_state=1951875469), SVC(C=200, gamma=0.01, random_state=1653592995), SVC(C=200, gamma=0.01, random_state=220565187), SVC(C=200, gamma=0.01, random_state=1601330487), SVC(C=200, gamma=0.01, random_state=253494411), SVC(C=200, gamma=0.01, random_state=1044497709), SVC(C=200, gamma=0.01, random_state=1495965369), SVC(C=200, gamma=0.01, random_state=1027060965), SVC(C=200, gamma=0.01, random_state=1470264995), SVC(C=200, gamma=0.01, random_state=748981558), SVC(C=200, gamma=0.01, random_state=762473256), SVC(C=200, gamma=0.01, random_state=1951229086), SVC(C=200, gamma=0.01, random_state=1026137513), SVC(C=200, gamma=0.01, random_state=1906941289), SVC(C=200, gamma=0.01, random_state=1307589143), SVC(C=200, gamma=0.01, random_state=391498898), SVC(C=200, gamma=0.01, random_state=2036634012), SVC(C=200, gamma=0.01, random_state=858864589), SVC(C=200, gamma=0.01, random_state=1104242473), SVC(C=200, gamma=0.01, random_state=229282813), SVC(C=200, gamma=0.01, random_state=387354128), SVC(C=200, gamma=0.01, random_state=74620528), SVC(C=200, gamma=0.01, random_state=1549793119), SVC(C=200, gamma=0.01, random_state=179881811), SVC(C=200, gamma=0.01, random_state=1034080266), SVC(C=200, gamma=0.01, random_state=1897664833), SVC(C=200, gamma=0.01, random_state=2062006273), SVC(C=200, gamma=0.01, random_state=923990760), SVC(C=200, gamma=0.01, random_state=632471586), SVC(C=200, gamma=0.01, random_state=1358998369), SVC(C=200, gamma=0.01, random_state=1229996985), SVC(C=200, gamma=0.01, random_state=1867578038), SVC(C=200, gamma=0.01, random_state=2092357472), SVC(C=200, gamma=0.01, random_state=1351304514), SVC(C=200, gamma=0.01, random_state=487688583), SVC(C=200, gamma=0.01, random_state=1392589822), SVC(C=200, gamma=0.01, random_state=1908622269), SVC(C=200, gamma=0.01, random_state=542396445), SVC(C=200, gamma=0.01, random_state=902556413), SVC(C=200, gamma=0.01, random_state=1361545856), SVC(C=200, gamma=0.01, random_state=1275537062), SVC(C=200, gamma=0.01, random_state=1607468784), SVC(C=200, gamma=0.01, random_state=72459019), SVC(C=200, gamma=0.01, random_state=478425964), SVC(C=200, gamma=0.01, random_state=1512263115), SVC(C=200, gamma=0.01, random_state=2064708306), SVC(C=200, gamma=0.01, random_state=102869601), SVC(C=200, gamma=0.01, random_state=35553477), SVC(C=200, gamma=0.01, random_state=515257397), SVC(C=200, gamma=0.01, random_state=447586474), SVC(C=200, gamma=0.01, random_state=49585136), SVC(C=200, gamma=0.01, random_state=1742650326), SVC(C=200, gamma=0.01, random_state=584266180), SVC(C=200, gamma=0.01, random_state=441815259), SVC(C=200, gamma=0.01, random_state=1957067958), SVC(C=200, gamma=0.01, random_state=1416633224), SVC(C=200, gamma=0.01, random_state=1720463212), SVC(C=200, gamma=0.01, random_state=224892717), SVC(C=200, gamma=0.01, random_state=1884175273), SVC(C=200, gamma=0.01, random_state=954887878), SVC(C=200, gamma=0.01, random_state=1640428685), SVC(C=200, gamma=0.01, random_state=1516204821), SVC(C=200, gamma=0.01, random_state=636559418), SVC(C=200, gamma=0.01, random_state=1068849050), SVC(C=200, gamma=0.01, random_state=1889197830), SVC(C=200, gamma=0.01, random_state=34680347), SVC(C=200, gamma=0.01, random_state=891538567), SVC(C=200, gamma=0.01, random_state=1643473956), SVC(C=200, gamma=0.01, random_state=1017570651), SVC(C=200, gamma=0.01, random_state=1015529610), SVC(C=200, gamma=0.01, random_state=1046482309), SVC(C=200, gamma=0.01, random_state=151629584), SVC(C=200, gamma=0.01, random_state=531019965), SVC(C=200, gamma=0.01, random_state=470875073), SVC(C=200, gamma=0.01, random_state=2089635908), SVC(C=200, gamma=0.01, random_state=514435912), SVC(C=200, gamma=0.01, random_state=1396635079), SVC(C=200, gamma=0.01, random_state=936715316), SVC(C=200, gamma=0.01, random_state=1614641047), SVC(C=200, gamma=0.01, random_state=724602796), SVC(C=200, gamma=0.01, random_state=506029946), SVC(C=200, gamma=0.01, random_state=1281823340), SVC(C=200, gamma=0.01, random_state=921635466), SVC(C=200, gamma=0.01, random_state=2049420788), SVC(C=200, gamma=0.01, random_state=1907056859), SVC(C=200, gamma=0.01, random_state=1273801525), SVC(C=200, gamma=0.01, random_state=1645630651), SVC(C=200, gamma=0.01, random_state=572292559), SVC(C=200, gamma=0.01, random_state=770068356), SVC(C=200, gamma=0.01, random_state=779844113), SVC(C=200, gamma=0.01, random_state=1552715192), SVC(C=200, gamma=0.01, random_state=1240422756), SVC(C=200, gamma=0.01, random_state=1781564709), SVC(C=200, gamma=0.01, random_state=364241805), SVC(C=200, gamma=0.01, random_state=138505289), SVC(C=200, gamma=0.01, random_state=1477966635), SVC(C=200, gamma=0.01, random_state=1565122574), SVC(C=200, gamma=0.01, random_state=1335489690), SVC(C=200, gamma=0.01, random_state=358801806), SVC(C=200, gamma=0.01, random_state=1456811925), SVC(C=200, gamma=0.01, random_state=594009234), SVC(C=200, gamma=0.01, random_state=1297537210), SVC(C=200, gamma=0.01, random_state=2126660873), SVC(C=200, gamma=0.01, random_state=303371554), SVC(C=200, gamma=0.01, random_state=1404304576), SVC(C=200, gamma=0.01, random_state=398516998), SVC(C=200, gamma=0.01, random_state=121276347), SVC(C=200, gamma=0.01, random_state=995829182), SVC(C=200, gamma=0.01, random_state=167369211), SVC(C=200, gamma=0.01, random_state=1606607661), SVC(C=200, gamma=0.01, random_state=1434825979), SVC(C=200, gamma=0.01, random_state=1590180792), SVC(C=200, gamma=0.01, random_state=1818705559), SVC(C=200, gamma=0.01, random_state=213148408), SVC(C=200, gamma=0.01, random_state=1378019316), SVC(C=200, gamma=0.01, random_state=198786532), SVC(C=200, gamma=0.01, random_state=827348394), SVC(C=200, gamma=0.01, random_state=1395668943), SVC(C=200, gamma=0.01, random_state=644864213), SVC(C=200, gamma=0.01, random_state=758082245), SVC(C=200, gamma=0.01, random_state=1654840277), SVC(C=200, gamma=0.01, random_state=64244300), SVC(C=200, gamma=0.01, random_state=532100538), SVC(C=200, gamma=0.01, random_state=98261226), SVC(C=200, gamma=0.01, random_state=1489376965), SVC(C=200, gamma=0.01, random_state=269692037), SVC(C=200, gamma=0.01, random_state=1819085871), SVC(C=200, gamma=0.01, random_state=873125341), SVC(C=200, gamma=0.01, random_state=1708963335), SVC(C=200, gamma=0.01, random_state=1560187347), SVC(C=200, gamma=0.01, random_state=532689778), SVC(C=200, gamma=0.01, random_state=1387501702), SVC(C=200, gamma=0.01, random_state=551869147), SVC(C=200, gamma=0.01, random_state=1304290068), SVC(C=200, gamma=0.01, random_state=1909053575), SVC(C=200, gamma=0.01, random_state=847382013), SVC(C=200, gamma=0.01, random_state=198207661), SVC(C=200, gamma=0.01, random_state=1621976844), SVC(C=200, gamma=0.01, random_state=1408405558), SVC(C=200, gamma=0.01, random_state=427947378), SVC(C=200, gamma=0.01, random_state=395500507), SVC(C=200, gamma=0.01, random_state=1851804138), SVC(C=200, gamma=0.01, random_state=1369588998), SVC(C=200, gamma=0.01, random_state=712710518), SVC(C=200, gamma=0.01, random_state=347284215), SVC(C=200, gamma=0.01, random_state=1759265700), SVC(C=200, gamma=0.01, random_state=1708758729), SVC(C=200, gamma=0.01, random_state=1419762519), SVC(C=200, gamma=0.01, random_state=1538157330), SVC(C=200, gamma=0.01, random_state=1559137228), SVC(C=200, gamma=0.01, random_state=298005136), SVC(C=200, gamma=0.01, random_state=628899393), SVC(C=200, gamma=0.01, random_state=2102769332), SVC(C=200, gamma=0.01, random_state=2085667135), SVC(C=200, gamma=0.01, random_state=1930981312), SVC(C=200, gamma=0.01, random_state=806030893), SVC(C=200, gamma=0.01, random_state=1469246072), SVC(C=200, gamma=0.01, random_state=493873259), SVC(C=200, gamma=0.01, random_state=1341201871), SVC(C=200, gamma=0.01, random_state=1825738406), SVC(C=200, gamma=0.01, random_state=1077960033), SVC(C=200, gamma=0.01, random_state=2091328988), SVC(C=200, gamma=0.01, random_state=1996069927), SVC(C=200, gamma=0.01, random_state=1737199847), SVC(C=200, gamma=0.01, random_state=570012218), SVC(C=200, gamma=0.01, random_state=440347445), SVC(C=200, gamma=0.01, random_state=1927049423), SVC(C=200, gamma=0.01, random_state=1585617394), SVC(C=200, gamma=0.01, random_state=1866030984), SVC(C=200, gamma=0.01, random_state=1635393726), SVC(C=200, gamma=0.01, random_state=392038922), SVC(C=200, gamma=0.01, random_state=1725788638), SVC(C=200, gamma=0.01, random_state=814605903), SVC(C=200, gamma=0.01, random_state=228270612), SVC(C=200, gamma=0.01, random_state=687235098), SVC(C=200, gamma=0.01, random_state=1393483625), SVC(C=200, gamma=0.01, random_state=667290191), SVC(C=200, gamma=0.01, random_state=1166980726), SVC(C=200, gamma=0.01, random_state=1117800698), SVC(C=200, gamma=0.01, random_state=590755398), SVC(C=200, gamma=0.01, random_state=888978885), SVC(C=200, gamma=0.01, random_state=1220439377), SVC(C=200, gamma=0.01, random_state=825760952), SVC(C=200, gamma=0.01, random_state=1970867588), SVC(C=200, gamma=0.01, random_state=1639668159), SVC(C=200, gamma=0.01, random_state=1572395698), SVC(C=200, gamma=0.01, random_state=170852573), SVC(C=200, gamma=0.01, random_state=1053688398), SVC(C=200, gamma=0.01, random_state=1122452755), SVC(C=200, gamma=0.01, random_state=814504250), SVC(C=200, gamma=0.01, random_state=151257706), SVC(C=200, gamma=0.01, random_state=763938004), SVC(C=200, gamma=0.01, random_state=2734292), SVC(C=200, gamma=0.01, random_state=1887598226), SVC(C=200, gamma=0.01, random_state=871402026), SVC(C=200, gamma=0.01, random_state=1937737953), SVC(C=200, gamma=0.01, random_state=1661998502), SVC(C=200, gamma=0.01, random_state=1711350650), SVC(C=200, gamma=0.01, random_state=850352406), SVC(C=200, gamma=0.01, random_state=1299531661), SVC(C=200, gamma=0.01, random_state=2053066316), SVC(C=200, gamma=0.01, random_state=1397973164), SVC(C=200, gamma=0.01, random_state=1676714389), SVC(C=200, gamma=0.01, random_state=263790770), SVC(C=200, gamma=0.01, random_state=883766841), SVC(C=200, gamma=0.01, random_state=1897497444), SVC(C=200, gamma=0.01, random_state=1163848521), SVC(C=200, gamma=0.01, random_state=1501981981), SVC(C=200, gamma=0.01, random_state=92188719), SVC(C=200, gamma=0.01, random_state=1670022300), SVC(C=200, gamma=0.01, random_state=681154496), SVC(C=200, gamma=0.01, random_state=106306495), SVC(C=200, gamma=0.01, random_state=1191603870), SVC(C=200, gamma=0.01, random_state=819084410), SVC(C=200, gamma=0.01, random_state=1167543020), SVC(C=200, gamma=0.01, random_state=192116330), SVC(C=200, gamma=0.01, random_state=1941116682), SVC(C=200, gamma=0.01, random_state=1006657860), SVC(C=200, gamma=0.01, random_state=455022146), SVC(C=200, gamma=0.01, random_state=2011938135), SVC(C=200, gamma=0.01, random_state=1504363588), SVC(C=200, gamma=0.01, random_state=686392441)]\n"
     ]
    }
   ],
   "source": [
    "print(bclf.estimators_)"
   ]
  },
  {
   "cell_type": "code",
   "execution_count": 62,
   "metadata": {},
   "outputs": [],
   "source": [
    "from sklearn.model_selection import KFold, StratifiedKFold\n",
    "\n",
    "def cross_validate(classifier, kfold, X, y, classes, params=None, talk=True):\n",
    "    if params is None:\n",
    "        params = {}\n",
    "    if classifier.__class__.__name__ == 'ABCMeta':\n",
    "        clf = classifier(**params)\n",
    "    else:\n",
    "        clf = classifier\n",
    "    predicted = []\n",
    "    target = []\n",
    "\n",
    "    for train_index, test_index in kfold.split(X, y):\n",
    "        X_train, X_test = X.iloc[train_index], X.iloc[test_index]\n",
    "        y_train, y_test = y.iloc[train_index], y.iloc[test_index]\n",
    "        clf.fit(X=X_train, y=y_train)\n",
    "        predicted = np.concatenate((predicted, clf.predict(X_test)))\n",
    "        target = np.concatenate((target, y_test))\n",
    "    \n",
    "    metrics = calculate_metrics(target, predicted)\n",
    "    cm = confusion_matrix(target, predicted)\n",
    "    if talk:\n",
    "        print_results(metrics, clf.__class__.__name__)\n",
    "        plot_confusion_matrix(normalize_confusion_matrix(cm),\n",
    "                              classes,\n",
    "                              title_appendix=clf.__class__.__name__)\n",
    "        plt.show()\n",
    "    else:\n",
    "        return metrics, cm"
   ]
  },
  {
   "cell_type": "code",
   "execution_count": 63,
   "metadata": {},
   "outputs": [
    {
     "data": {
      "text/plain": [
       "0    35021\n",
       "1    34979\n",
       "Name: class, dtype: int64"
      ]
     },
     "execution_count": 63,
     "metadata": {},
     "output_type": "execute_result"
    }
   ],
   "source": [
    "y.value_counts()"
   ]
  },
  {
   "cell_type": "code",
   "execution_count": 64,
   "metadata": {},
   "outputs": [
    {
     "name": "stdout",
     "output_type": "stream",
     "text": [
      "Results for BaggingClassifier\n",
      "----\n",
      "  Accuracy:  0.7331285714285715\n",
      "  Precision: 0.734746350741416\n",
      "  Recall:    0.7331035582029952\n",
      "  F1 score:  0.7326540814729778\n",
      "  Mislabeled 18681 out of 70000\n",
      "\n",
      "\n"
     ]
    },
    {
     "data": {
      "image/png": "[encoded data removed]",
      "text/plain": [
       "<Figure size 432x288 with 2 Axes>"
      ]
     },
     "metadata": {
      "needs_background": "light"
     },
     "output_type": "display_data"
    }
   ],
   "source": [
    "cross_validate(bclf, StratifiedKFold(9), X, y, classes)"
   ]
  },
  {
   "cell_type": "code",
   "execution_count": 65,
   "metadata": {},
   "outputs": [
    {
     "name": "stdout",
     "output_type": "stream",
     "text": [
      "Results for BaggingClassifier\n",
      "----\n",
      "  Accuracy:  0.6941857142857143\n",
      "  Precision: 0.6960018739163532\n",
      "  Recall:    0.694156675610689\n",
      "  F1 score:  0.6934552689278504\n",
      "  Mislabeled 21407 out of 70000\n",
      "\n",
      "\n"
     ]
    },
    {
     "data": {
      "image/png": "[encoded data removed]",
      "text/plain": [
       "<Figure size 432x288 with 2 Axes>"
      ]
     },
     "metadata": {
      "needs_background": "light"
     },
     "output_type": "display_data"
    }
   ],
   "source": [
    "cross_validate(BaggingClassifier, StratifiedKFold(9), X, y, classes)"
   ]
  },
  {
   "cell_type": "code",
   "execution_count": 66,
   "metadata": {},
   "outputs": [],
   "source": [
    "from sklearn.model_selection import cross_validate"
   ]
  },
  {
   "cell_type": "code",
   "execution_count": 67,
   "metadata": {},
   "outputs": [
    {
     "name": "stdout",
     "output_type": "stream",
     "text": [
      "[0.72975058 0.72627925 0.74299306 0.73592183 0.73232193 0.73116482\n",
      " 0.74106454 0.72637264 0.73138742]\n"
     ]
    },
    {
     "data": {
      "text/plain": [
       "0.7330284529022274"
      ]
     },
     "execution_count": 67,
     "metadata": {},
     "output_type": "execute_result"
    }
   ],
   "source": [
    "#SVM\n",
    "cv_results = cross_validate(svm, X, y, cv=9)\n",
    "print(cv_results['test_score'])\n",
    "np.average(cv_results['test_score'])"
   ]
  },
  {
   "cell_type": "code",
   "execution_count": 68,
   "metadata": {},
   "outputs": [
    {
     "name": "stdout",
     "output_type": "stream",
     "text": [
      "[0.72923631 0.72615068 0.74247879 0.73630753 0.7328362  0.73039342\n",
      " 0.74132168 0.72688697 0.73100167]\n"
     ]
    },
    {
     "data": {
      "text/plain": [
       "0.7329570282084228"
      ]
     },
     "execution_count": 68,
     "metadata": {},
     "output_type": "execute_result"
    }
   ],
   "source": [
    "#bagging svm\n",
    "cv_results = cross_validate(bclf, X, y, cv=9)\n",
    "print(cv_results['test_score'])\n",
    "np.average(cv_results['test_score'])"
   ]
  },
  {
   "cell_type": "code",
   "execution_count": null,
   "metadata": {},
   "outputs": [],
   "source": []
  },
  {
   "cell_type": "markdown",
   "metadata": {},
   "source": [
    "Powyżej zaprezentowano modele uzyskane za pomocą metod klasyfikacji: SVM oraz Bagging.\n",
    "Modele zostały wytrenowane na zbiorze cardiotrain. Zbiór ten zawiera informacje na temat czynników, które mogą wpływać\n",
    "na obecność choroby sercowo-naczyniowej. Poniżej opis zbioru."
   ]
  },
  {
   "cell_type": "markdown",
   "metadata": {},
   "source": [
    "Cechy:\n",
    "\n",
    "Age - wiek (dni) \n",
    "Height - wysokość (cm)\n",
    "Weight - waga (kg)\n",
    "Gender - płeć (kod kategorii: 1,2)\n",
    "Ap_hi - Systolic blood pressure - skurczowe ciśnienie krwi\n",
    "Ap_lo - Diastolic blood pressure - rozkurczowe ciśnienie krwi\n",
    "Cholesterol - cholesterol - poziom 1: normalny, 2: powyżej normy, 3: znacznie powyżej normy\n",
    "Glucose - glukoza - poziom 1: normalny, 2: powyżej normy, 3: znacznie powyżej normy\n",
    "Smoking - palenie - zmienna binarna\n",
    "Alcohol intake - spożycie alkoholu - zmienna binarna\n",
    "Physical activity - aktywność fizyczna - zmienna binarna\n",
    "Presence or absence of cardiovascular disease - obecność lub brak choroby sercowo-naczyniowej - Zmienna docelowa - zmienna binarna"
   ]
  },
  {
   "cell_type": "markdown",
   "metadata": {},
   "source": [
    "Z dwóch wybranych metod klasyfikacji lepsze wyniki dała metoda SVM.\n",
    "Widzimy, że accuracy, precision i recall osiągają wyniki nieco lepsze od wyników dla dokładności, precyzji i czyłości dla metody Bagging.\n",
    "Standaryzacja okazała się być dużo lepsza od normalizacji, dla której wyniki nie były obecujące.\n",
    "Wyniki można poprawić regulując między innymi wartością parametru C, ale ze zwględu na dużą wielkość zbioru - liczy on 70 000 wierszy i 12 kolumn - jest to bardzo czasochłonne. Próba zmiany i zwiększenia ilości parametrów w GridSearch, przy takich danych powoduje, że często wywołanie jednej komórki kodu przelicza się powyżej 48 godzin.\n",
    "\n"
   ]
  }
 ],
 "metadata": {
  "colab": {
   "collapsed_sections": [],
   "name": "Kopia notatnika Kopia notatnika Kopia notatnika Untitled0.ipynb",
   "provenance": []
  },
  "kernelspec": {
   "display_name": "Python 3",
   "language": "python",
   "name": "python3"
  },
  "language_info": {
   "codemirror_mode": {
    "name": "ipython",
    "version": 3
   },
   "file_extension": ".py",
   "mimetype": "text/x-python",
   "name": "python",
   "nbconvert_exporter": "python",
   "pygments_lexer": "ipython3",
   "version": "3.8.5"
  }
 },
 "nbformat": 4,
 "nbformat_minor": 1
}
